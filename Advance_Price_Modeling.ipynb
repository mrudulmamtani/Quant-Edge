{
  "nbformat": 4,
  "nbformat_minor": 0,
  "metadata": {
    "colab": {
      "provenance": [],
      "authorship_tag": "ABX9TyO3NgDHE9gsoEjoAbBmxtwR",
      "include_colab_link": true
    },
    "kernelspec": {
      "name": "python3",
      "display_name": "Python 3"
    },
    "language_info": {
      "name": "python"
    }
  },
  "cells": [
    {
      "cell_type": "markdown",
      "metadata": {
        "id": "view-in-github",
        "colab_type": "text"
      },
      "source": [
        "<a href=\"https://colab.research.google.com/github/mrudulmamtani/Quant-Edge/blob/main/Advance_Price_Modeling.ipynb\" target=\"_parent\"><img src=\"https://colab.research.google.com/assets/colab-badge.svg\" alt=\"Open In Colab\"/></a>"
      ]
    },
    {
      "cell_type": "code",
      "execution_count": 1,
      "metadata": {
        "colab": {
          "base_uri": "https://localhost:8080/"
        },
        "id": "EFqNCP_V02em",
        "outputId": "f58d0d06-2a13-426c-fc86-d74c41e36a07"
      },
      "outputs": [
        {
          "output_type": "stream",
          "name": "stdout",
          "text": [
            "Advanced Monte Carlo Option Price: 10.302754123392171\n"
          ]
        }
      ],
      "source": [
        "import numpy as np\n",
        "\n",
        "def advanced_monte_carlo_option_price(S0, K, T, r, sigma, num_simulations, num_steps, option_type='call'):\n",
        "    np.random.seed(42)\n",
        "    dt = T / num_steps\n",
        "    discount_factor = np.exp(-r * T)\n",
        "\n",
        "    # Generate paths\n",
        "    paths = np.zeros((num_simulations, num_steps + 1))\n",
        "    paths[:, 0] = S0\n",
        "    for t in range(1, num_steps + 1):\n",
        "        Z = np.random.randn(num_simulations)\n",
        "        paths[:, t] = paths[:, t - 1] * np.exp((r - 0.5 * sigma ** 2) * dt + sigma * np.sqrt(dt) * Z)\n",
        "\n",
        "    # Payoffs\n",
        "    if option_type == 'call':\n",
        "        payoffs = np.maximum(paths[:, -1] - K, 0)\n",
        "    else:\n",
        "        payoffs = np.maximum(K - paths[:, -1], 0)\n",
        "\n",
        "    option_price = discount_factor * np.mean(payoffs)\n",
        "    return option_price\n",
        "\n",
        "# Parameters\n",
        "S0 = 100  # Initial stock price\n",
        "K = 100   # Strike price\n",
        "T = 1     # Time to maturity (1 year)\n",
        "r = 0.05  # Risk-free rate\n",
        "sigma = 0.2  # Volatility\n",
        "num_simulations = 10000\n",
        "num_steps = 365  # Daily steps\n",
        "\n",
        "mc_price = advanced_monte_carlo_option_price(S0, K, T, r, sigma, num_simulations, num_steps)\n",
        "print(f\"Advanced Monte Carlo Option Price: {mc_price}\")\n"
      ]
    },
    {
      "cell_type": "code",
      "source": [
        "def crr_binomial_option_price(S0, K, T, r, sigma, steps, option_type='call'):\n",
        "    dt = T / steps\n",
        "    u = np.exp(sigma * np.sqrt(dt))\n",
        "    d = 1 / u\n",
        "    p = (np.exp(r * dt) - d) / (u - d)\n",
        "\n",
        "    option_values = np.zeros(steps + 1)\n",
        "    for i in range(steps + 1):\n",
        "        S = S0 * (u ** (steps - i)) * (d ** i)\n",
        "        option_values[i] = max(0, S - K) if option_type == 'call' else max(0, K - S)\n",
        "\n",
        "    for step in range(steps - 1, -1, -1):\n",
        "        for i in range(step + 1):\n",
        "            option_values[i] = np.exp(-r * dt) * (p * option_values[i] + (1 - p) * option_values[i + 1])\n",
        "\n",
        "    return option_values[0]\n",
        "\n",
        "# Parameters\n",
        "steps = 1000\n",
        "\n",
        "binomial_price = crr_binomial_option_price(S0, K, T, r, sigma, steps)\n",
        "print(f\"CRR Binomial Option Price: {binomial_price}\")\n"
      ],
      "metadata": {
        "colab": {
          "base_uri": "https://localhost:8080/"
        },
        "id": "CrKvs34u05dv",
        "outputId": "f732daf0-a2e2-49e5-89df-a605dd40529d"
      },
      "execution_count": 2,
      "outputs": [
        {
          "output_type": "stream",
          "name": "stdout",
          "text": [
            "CRR Binomial Option Price: 10.448584103764572\n"
          ]
        }
      ]
    },
    {
      "cell_type": "code",
      "source": [
        "from scipy.stats import norm\n",
        "\n",
        "def black_scholes_with_greeks(S0, K, T, r, sigma, option_type='call'):\n",
        "    d1 = (np.log(S0 / K) + (r + 0.5 * sigma ** 2) * T) / (sigma * np.sqrt(T))\n",
        "    d2 = d1 - sigma * np.sqrt(T)\n",
        "\n",
        "    if option_type == 'call':\n",
        "        price = S0 * norm.cdf(d1) - K * np.exp(-r * T) * norm.cdf(d2)\n",
        "        delta = norm.cdf(d1)\n",
        "        gamma = norm.pdf(d1) / (S0 * sigma * np.sqrt(T))\n",
        "        vega = S0 * norm.pdf(d1) * np.sqrt(T)\n",
        "        theta = -(S0 * norm.pdf(d1) * sigma) / (2 * np.sqrt(T)) - r * K * np.exp(-r * T) * norm.cdf(d2)\n",
        "        rho = K * T * np.exp(-r * T) * norm.cdf(d2)\n",
        "    else:\n",
        "        price = K * np.exp(-r * T) * norm.cdf(-d2) - S0 * norm.cdf(-d1)\n",
        "        delta = -norm.cdf(-d1)\n",
        "        gamma = norm.pdf(d1) / (S0 * sigma * np.sqrt(T))\n",
        "        vega = S0 * norm.pdf(d1) * np.sqrt(T)\n",
        "        theta = -(S0 * norm.pdf(d1) * sigma) / (2 * np.sqrt(T)) + r * K * np.exp(-r * T) * norm.cdf(-d2)\n",
        "        rho = -K * T * np.exp(-r * T) * norm.cdf(-d2)\n",
        "\n",
        "    greeks = {'Delta': delta, 'Gamma': gamma, 'Vega': vega, 'Theta': theta, 'Rho': rho}\n",
        "    return price, greeks\n",
        "\n",
        "bs_price, bs_greeks = black_scholes_with_greeks(S0, K, T, r, sigma)\n",
        "print(f\"Black-Scholes Option Price: {bs_price}\")\n",
        "print(f\"Black-Scholes Greeks: {bs_greeks}\")\n"
      ],
      "metadata": {
        "colab": {
          "base_uri": "https://localhost:8080/"
        },
        "id": "bQmFxsfP1Dj-",
        "outputId": "2e8ccc98-bbf5-4223-ed44-9e1ede680eb9"
      },
      "execution_count": 3,
      "outputs": [
        {
          "output_type": "stream",
          "name": "stdout",
          "text": [
            "Black-Scholes Option Price: 10.450583572185565\n",
            "Black-Scholes Greeks: {'Delta': 0.6368306511756191, 'Gamma': 0.018762017345846895, 'Vega': 37.52403469169379, 'Theta': -6.414027546438197, 'Rho': 53.232481545376345}\n"
          ]
        }
      ]
    },
    {
      "cell_type": "code",
      "source": [
        "def merged_option_price(mc_price, binomial_price, bs_price, weights):\n",
        "    weighted_price = weights[0] * mc_price + weights[1] * binomial_price + weights[2] * bs_price\n",
        "    return weighted_price\n",
        "\n",
        "# Weights for each model\n",
        "weights = [0.3, 0.3, 0.4]\n",
        "\n",
        "merged_price = merged_option_price(mc_price, binomial_price, bs_price, weights)\n",
        "print(f\"Merged Option Price: {merged_price}\")\n"
      ],
      "metadata": {
        "colab": {
          "base_uri": "https://localhost:8080/"
        },
        "id": "TSKSUTGQ1EZs",
        "outputId": "4f8daea8-e7eb-43df-827f-c3d1f1db8064"
      },
      "execution_count": 5,
      "outputs": [
        {
          "output_type": "stream",
          "name": "stdout",
          "text": [
            "Merged Option Price: 10.40563489702125\n"
          ]
        }
      ]
    }
  ]
}